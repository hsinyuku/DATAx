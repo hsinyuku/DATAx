{
 "cells": [
  {
   "cell_type": "markdown",
   "metadata": {
    "colab_type": "text",
    "id": "W9saXR6atg0o"
   },
   "source": [
    "# PART B\n",
    "\n",
    "Imagine that you are a trainer. You should explain the following code to the students. \n",
    "\n",
    "Assume that students have learned about functions and Python dictionaries and that this is an example to illustrate the concepts. \n",
    "\n",
    "*Film yourself or record your screen and guide us through the code.*"
   ]
  },
  {
   "cell_type": "code",
   "execution_count": null,
   "metadata": {
    "colab": {},
    "colab_type": "code",
    "id": "Rs-xcahCtzMJ"
   },
   "outputs": [],
   "source": [
    "P_DICT = {'user1': 'u3uehnd92', 'user2': '238094uhddna', 'user3': '923JIBH§2'}\n",
    "# DIC = {KEY:VALUE}\n",
    "# DIC[KEY] = VALUE\n",
    "\n",
    "def check(name, pw):\n",
    "    if name in P_DICT: # if name the KEYs of P_DICT\n",
    "        if P_DICT[name] == pw:\n",
    "            return True\n",
    "        else:\n",
    "            return False\n",
    "    else:\n",
    "        print(\"Wrong username!\")\n",
    "\n",
    "my_name = input(\"Enter your name: \")\n",
    "my_pw = input(\"Enter your password: \")\n",
    "check(my_name, my_pw)"
   ]
  },
  {
   "cell_type": "markdown",
   "metadata": {
    "colab_type": "text",
    "id": "l68WDmdkt0lB"
   },
   "source": [
    "# PART C"
   ]
  },
  {
   "cell_type": "markdown",
   "metadata": {
    "colab_type": "text",
    "id": "4vx2y7RQuCgO"
   },
   "source": [
    "The students had the following task: \"Write a function that expects a list of numbers as input and returns a list of all numbers from this list divisible by 5 or 7.\n",
    "\n",
    "You get the following code from a student. Explain to her/him why the given code does not work!\n",
    "\n",
    "*Film yourself or record your screen and explain which errors are in the code and \"repair\" the code.*"
   ]
  },
  {
   "cell_type": "code",
   "execution_count": 27,
   "metadata": {},
   "outputs": [
    {
     "name": "stdout",
     "output_type": "stream",
     "text": [
      "[0, 5, 7, 10, 14, 15, 20]\n"
     ]
    }
   ],
   "source": [
    "def divisible_by(num_list):\n",
    "    result_num_list=[] # initialize an empty list to store the divisible values\n",
    "    for i in range(len(num_list)):  # for i in range(20)\n",
    "        if num_list[i] % 5 == 0 or num_list[i] % 7 == 0:\n",
    "            # = : an assignment operator\n",
    "            # == : a relational operator\n",
    "            # != : not equal\n",
    "            result_num_list.append(num_list[i])\n",
    "    return result_num_list\n",
    "\n",
    "print(divisible_by(list(range(21))))  # [0, 5, 7, 10, 14, 15, 20]"
   ]
  },
  {
   "cell_type": "code",
   "execution_count": 26,
   "metadata": {},
   "outputs": [
    {
     "name": "stdout",
     "output_type": "stream",
     "text": [
      "0\n",
      "1\n",
      "2\n",
      "3\n",
      "4\n"
     ]
    }
   ],
   "source": [
    "for i in range(5):\n",
    "    print(i)"
   ]
  },
  {
   "cell_type": "code",
   "execution_count": 21,
   "metadata": {},
   "outputs": [
    {
     "data": {
      "text/plain": [
       "[3, 4]"
      ]
     },
     "execution_count": 21,
     "metadata": {},
     "output_type": "execute_result"
    }
   ],
   "source": [
    "b=[]\n",
    "b.append(3)\n",
    "b\n",
    "b.append(4)\n",
    "b"
   ]
  },
  {
   "cell_type": "code",
   "execution_count": 17,
   "metadata": {},
   "outputs": [
    {
     "data": {
      "text/plain": [
       "3"
      ]
     },
     "execution_count": 17,
     "metadata": {},
     "output_type": "execute_result"
    }
   ],
   "source": [
    "a=[1,2,3,4,5]\n",
    "a[1] #2\n",
    "a[2] #3\n",
    "del a[1]\n",
    "a\n",
    "a[1] #3`\n"
   ]
  },
  {
   "cell_type": "code",
   "execution_count": 19,
   "metadata": {},
   "outputs": [
    {
     "data": {
      "text/plain": [
       "False"
      ]
     },
     "execution_count": 19,
     "metadata": {},
     "output_type": "execute_result"
    }
   ],
   "source": [
    "a=5\n",
    "a\n",
    "not a==5"
   ]
  },
  {
   "cell_type": "code",
   "execution_count": 7,
   "metadata": {},
   "outputs": [],
   "source": [
    "# Some reference: \n",
    "    # Python's operator : https://www.geeksforgeeks.org/python-operators/\n",
    "    # .append method of the list : https://www.programiz.com/python-programming/methods/list/append"
   ]
  },
  {
   "cell_type": "code",
   "execution_count": null,
   "metadata": {},
   "outputs": [],
   "source": []
  }
 ],
 "metadata": {
  "colab": {
   "collapsed_sections": [],
   "name": "DATAx_application_problem-set.ipynb",
   "provenance": []
  },
  "kernelspec": {
   "display_name": "Python 3",
   "language": "python",
   "name": "python3"
  },
  "language_info": {
   "codemirror_mode": {
    "name": "ipython",
    "version": 3
   },
   "file_extension": ".py",
   "mimetype": "text/x-python",
   "name": "python",
   "nbconvert_exporter": "python",
   "pygments_lexer": "ipython3",
   "version": "3.7.7"
  }
 },
 "nbformat": 4,
 "nbformat_minor": 1
}
