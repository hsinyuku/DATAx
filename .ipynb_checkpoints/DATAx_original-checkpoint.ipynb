{
 "cells": [
  {
   "cell_type": "markdown",
   "metadata": {
    "colab_type": "text",
    "id": "cWuF4P11sP2e"
   },
   "source": [
    "# PART A"
   ]
  },
  {
   "cell_type": "markdown",
   "metadata": {
    "colab_type": "text",
    "id": "PPkASzLUsT45"
   },
   "source": [
    "Write a function that calculates the value of the following sum for a given natural number $n$:<br>\n",
    "$n + n/2 + n/4 + n/8 + \\ldots$<br>\n",
    "*Important note: The division should be an integer division, i.e. the result of the division is rounded down. \"Possibly\" this fact has an influence on the number of elements in the sequence ... ;)*"
   ]
  },
  {
   "cell_type": "code",
   "execution_count": null,
   "metadata": {
    "colab": {},
    "colab_type": "code",
    "id": "SC-W5h0qr3Rb"
   },
   "outputs": [],
   "source": [
    "# edit here\n",
    "\n",
    "def halving_sum(n): \n",
    "    pass\n",
    "\n",
    "\n",
    "# test cases: \n",
    "print(halving_sum(25))  # output: 47\n",
    "print(halving_sum(10))  # output: 18"
   ]
  },
  {
   "cell_type": "markdown",
   "metadata": {
    "colab_type": "text",
    "id": "W9saXR6atg0o"
   },
   "source": [
    "# PART B\n",
    "\n",
    "Imagine that you are a trainer. You should explain the following code to the students. \n",
    "\n",
    "Assume that students have learned about functions and Python dictionaries and that this is an example to illustrate the concepts. \n",
    "\n",
    "*Film yourself or record your screen and guide us through the code.*"
   ]
  },
  {
   "cell_type": "code",
   "execution_count": null,
   "metadata": {
    "colab": {},
    "colab_type": "code",
    "id": "Rs-xcahCtzMJ"
   },
   "outputs": [],
   "source": [
    "P_DICT = {'user1': 'u3uehnd92', 'user2': '238094uhddna', 'user3': '923JIBH§2'}\n",
    "\n",
    "def check(name, pw):\n",
    "    if name in P_DICT:\n",
    "        if P_DICT[name] == pw:\n",
    "            return True\n",
    "        else:\n",
    "            return False\n",
    "    else:\n",
    "        print(\"Wrong username!\")\n",
    "\n",
    "\n",
    "my_name = input(\"Enter your name: \")\n",
    "my_pw = input(\"Enter your password: \")\n",
    "check(my_name, my_pw)"
   ]
  },
  {
   "cell_type": "markdown",
   "metadata": {
    "colab_type": "text",
    "id": "l68WDmdkt0lB"
   },
   "source": [
    "# PART C"
   ]
  },
  {
   "cell_type": "markdown",
   "metadata": {
    "colab_type": "text",
    "id": "4vx2y7RQuCgO"
   },
   "source": [
    "The students had the following task: \"Write a function that expects a list of numbers as input and returns a list of all numbers from this list divisible by 5 or 7.\n",
    "\n",
    "You get the following code from a student. Explain to her/him why the given code does not work!\n",
    "\n",
    "*Film yourself or record your screen and explain which errors are in the code and \"repair\" the code.*"
   ]
  },
  {
   "cell_type": "code",
   "execution_count": null,
   "metadata": {
    "colab": {},
    "colab_type": "code",
    "id": "dtXFTwXNt2xa"
   },
   "outputs": [],
   "source": [
    "def divisible_by(num_list):\n",
    "    \n",
    "    for i in range(len(num_list) - 1):\n",
    "        if not num_list[i] % 5 = 0 or num_list[i] % 7 = 0:\n",
    "            del num_list[i]\n",
    "    \n",
    "    return num_list\n",
    "\n",
    "\n",
    "print(divisible_by(list(range(21))))  # [0, 5, 7, 10, 14, 15, 20]"
   ]
  }
 ],
 "metadata": {
  "colab": {
   "collapsed_sections": [],
   "name": "DATAx_application_problem-set.ipynb",
   "provenance": []
  },
  "kernelspec": {
   "display_name": "Python 3",
   "language": "python",
   "name": "python3"
  },
  "language_info": {
   "codemirror_mode": {
    "name": "ipython",
    "version": 3
   },
   "file_extension": ".py",
   "mimetype": "text/x-python",
   "name": "python",
   "nbconvert_exporter": "python",
   "pygments_lexer": "ipython3",
   "version": "3.7.7"
  }
 },
 "nbformat": 4,
 "nbformat_minor": 1
}
