{
 "cells": [
  {
   "cell_type": "markdown",
   "metadata": {
    "colab_type": "text",
    "id": "cWuF4P11sP2e"
   },
   "source": [
    "# PART A"
   ]
  },
  {
   "cell_type": "markdown",
   "metadata": {
    "colab_type": "text",
    "id": "PPkASzLUsT45"
   },
   "source": [
    "Write a function that calculates the value of the following sum for a given natural number $n$:<br>\n",
    "$n + n/2 + n/4 + n/8 + \\ldots$<br>\n",
    "*Important note: The division should be an integer division, i.e. the result of the division is rounded down. \"Possibly\" this fact has an influence on the number of elements in the sequence ... ;)*"
   ]
  },
  {
   "cell_type": "code",
   "execution_count": 1,
   "metadata": {
    "colab": {},
    "colab_type": "code",
    "id": "SC-W5h0qr3Rb"
   },
   "outputs": [
    {
     "name": "stdout",
     "output_type": "stream",
     "text": [
      "47\n",
      "18\n"
     ]
    }
   ],
   "source": [
    "# edit here\n",
    "import math \n",
    "# We need package \"math\" to do round down for the division\n",
    "# Reference: https://www.knowledgehut.com/blog/programming/python-rounding-numbers\n",
    "\n",
    "def halving_sum(n):\n",
    "    t=0  # represents the t of 2 to the power of \"t\" in the denominator \n",
    "    sum=0 # our objective is set to 0 at the beginning \n",
    "    while 2**t-n<0:  #Since we only sum integer, this check until which t the division is kept in the sum\n",
    "        sum = sum + math.floor(n/2**t) # floor is the function to do round down\n",
    "        t=t+1 \n",
    "    return sum\n",
    "\n",
    "# test cases: \n",
    "print(halving_sum(25))  # output: 47\n",
    "print(halving_sum(10))  # output: 18"
   ]
  },
  {
   "cell_type": "markdown",
   "metadata": {
    "colab_type": "text",
    "id": "W9saXR6atg0o"
   },
   "source": [
    "# PART B\n",
    "\n",
    "Imagine that you are a trainer. You should explain the following code to the students. \n",
    "\n",
    "Assume that students have learned about functions and Python dictionaries and that this is an example to illustrate the concepts. \n",
    "\n",
    "*Film yourself or record your screen and guide us through the code.*"
   ]
  },
  {
   "cell_type": "code",
   "execution_count": 2,
   "metadata": {
    "colab": {},
    "colab_type": "code",
    "id": "Rs-xcahCtzMJ"
   },
   "outputs": [
    {
     "name": "stdout",
     "output_type": "stream",
     "text": [
      "Enter your name: user1\n",
      "Enter your password: ga\n"
     ]
    },
    {
     "data": {
      "text/plain": [
       "False"
      ]
     },
     "execution_count": 2,
     "metadata": {},
     "output_type": "execute_result"
    }
   ],
   "source": [
    "# A great reference for python's dictionary (also usage in functions) : https://www.w3schools.com/python/python_dictionaries.asp\n",
    "\n",
    "P_DICT = {'user1': 'u3uehnd92', 'user2': '238094uhddna', 'user3': '923JIBH§2'}\n",
    "# Dictionary = {KEY:VALUE, KEY:VALUE, ....}\n",
    "# Dictionary[KEY]=VALUE\n",
    "\n",
    "def check(name, pw):  # a function check is defined to take in 2 elements: name & pw\n",
    "    if name in P_DICT:  # if name is in the KEYs of P_DICT\n",
    "        if P_DICT[name] == pw:  # if the Dictionary[KEY]=VALUE equals to pw\n",
    "            return True  \n",
    "        else:  \n",
    "            return False\n",
    "    else: # if name is not in P_DICT: means name is not among the KEYs in the dictionary P_DICT\n",
    "        print(\"Wrong username!\") \n",
    "\n",
    "my_name = input(\"Enter your name: \")  # input() a built-in function of python 3 to accept user input.\n",
    "my_pw = input(\"Enter your password: \")  \n",
    "check(my_name, my_pw)  "
   ]
  },
  {
   "cell_type": "markdown",
   "metadata": {
    "colab_type": "text",
    "id": "l68WDmdkt0lB"
   },
   "source": [
    "# PART C"
   ]
  },
  {
   "cell_type": "markdown",
   "metadata": {
    "colab_type": "text",
    "id": "4vx2y7RQuCgO"
   },
   "source": [
    "The students had the following task: \"Write a function that expects a list of numbers as input and returns a list of all numbers from this list divisible by 5 or 7.\n",
    "\n",
    "You get the following code from a student. Explain to her/him why the given code does not work!\n",
    "\n",
    "*Film yourself or record your screen and explain which errors are in the code and \"repair\" the code.*"
   ]
  },
  {
   "cell_type": "code",
   "execution_count": 3,
   "metadata": {
    "colab": {},
    "colab_type": "code",
    "id": "dtXFTwXNt2xa"
   },
   "outputs": [
    {
     "name": "stdout",
     "output_type": "stream",
     "text": [
      "[0, 5, 7, 10, 14, 15, 20]\n"
     ]
    }
   ],
   "source": [
    "def divisible_by(num_list): \n",
    "    result_num_list=[]  # initialize an empty list to store the divisible values\n",
    "    for i in range(len(num_list)): \n",
    "        if num_list[i] % 5 == 0 or num_list[i] % 7 == 0:   \n",
    "            # == : a relational operator \n",
    "            # = : an assignment operator  \n",
    "          result_num_list.append(num_list[i])  \n",
    "          # The append() method adds an item to the end of the list. \n",
    "          # if the value is divisible, it is added into the result list \n",
    "    return result_num_list\n",
    "\n",
    "print(divisible_by(list(range(21))))  # [0, 5, 7, 10, 14, 15, 20]\n",
    "\n",
    "# Some reference: \n",
    "    # Python's operator : https://www.geeksforgeeks.org/python-operators/\n",
    "    # .append method of the list : https://www.programiz.com/python-programming/methods/list/append"
   ]
  }
 ],
 "metadata": {
  "colab": {
   "collapsed_sections": [],
   "name": "DATAx_application_problem-set.ipynb",
   "provenance": []
  },
  "kernelspec": {
   "display_name": "Python 3",
   "language": "python",
   "name": "python3"
  },
  "language_info": {
   "codemirror_mode": {
    "name": "ipython",
    "version": 3
   },
   "file_extension": ".py",
   "mimetype": "text/x-python",
   "name": "python",
   "nbconvert_exporter": "python",
   "pygments_lexer": "ipython3",
   "version": "3.7.7"
  }
 },
 "nbformat": 4,
 "nbformat_minor": 1
}
